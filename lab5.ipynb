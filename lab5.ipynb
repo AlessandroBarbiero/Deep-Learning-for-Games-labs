{
 "cells": [
  {
   "cell_type": "markdown",
   "metadata": {
    "collapsed": false,
    "pycharm": {
     "name": "#%% md\n"
    }
   },
   "source": [
    "# Deep Reinforcement Learning\n",
    "In this lab we will implement and train an agent that uses deep learning to play balance the stick in `CartPole-v1`."
   ]
  },
  {
   "cell_type": "markdown",
   "metadata": {
    "collapsed": false,
    "pycharm": {
     "name": "#%% md\n"
    }
   },
   "source": [
    "## Setup\n",
    "----\n",
    "We import useful packages: `gym`, `torch` stuff, etc.."
   ]
  },
  {
   "cell_type": "markdown",
   "metadata": {
    "collapsed": false,
    "pycharm": {
     "name": "#%% md\n"
    }
   },
   "source": [
    "Imports:"
   ]
  },
  {
   "cell_type": "code",
   "execution_count": 12,
   "metadata": {
    "collapsed": false,
    "pycharm": {
     "name": "#%%\n"
    }
   },
   "outputs": [],
   "source": [
    "import gym\n",
    "import random\n",
    "import numpy\n",
    "\n",
    "import torch\n",
    "import torch.nn as nn\n",
    "import torch.optim as optim\n",
    "import torch.nn.functional as F\n",
    "\n",
    "from collections import deque  # for memory\n",
    "from tqdm import tqdm          # for progress bar"
   ]
  },
  {
   "cell_type": "markdown",
   "metadata": {
    "collapsed": false,
    "pycharm": {
     "name": "#%% md\n"
    }
   },
   "source": [
    "How the game looks (without our agent):"
   ]
  },
  {
   "cell_type": "code",
   "execution_count": 13,
   "metadata": {
    "collapsed": false,
    "pycharm": {
     "name": "#%%\n"
    }
   },
   "outputs": [],
   "source": [
    "def rnd_game():\n",
    "    env = gym.make('CartPole-v1', render_mode='human')\n",
    "    for _ in tqdm(range(10)):\n",
    "        state, _ = env.reset()\n",
    "        done = False\n",
    "        while not done:\n",
    "            action = env.action_space.sample()\n",
    "            next_state, reward, done, _, _ = env.step(action)\n",
    "    env.close()\n",
    "\n",
    "# rnd_game()"
   ]
  },
  {
   "cell_type": "markdown",
   "metadata": {
    "collapsed": false,
    "pycharm": {
     "name": "#%% md\n"
    }
   },
   "source": [
    "## DQN Algorithm\n",
    "-------------\n",
    "We train a policy that tries to maximize the discounted,\n",
    "cumulative reward\n",
    "$R_{t_0} = \\sum_{t=t_0}^{\\infty} \\gamma^{t - t_0} r_t$, where\n",
    "$R_{t_0}$ is *return*. The discount, $\\gamma$ is the discount, between $0$ and $1$\n",
    "\n",
    "\n",
    "Q-learning tries to find a function\n",
    "$Q^*: State \\times Action \\rightarrow \\mathbb{R}$, maximizes rewards:\n",
    "\n",
    "$ \\begin{align}\\pi^*(s) = \\arg\\!\\max_a \\ Q^*(s, a)\\end{align} $\n",
    "\n",
    "However, we don't know $ Q^* $. So, we use neural network as a approximators, we can simply create one and train it to resemble $ Q^* $.\n",
    "\n",
    "For our training update rule, we'll use a fact that every $ Q $\n",
    "function for some policy obeys the Bellman equation:\n",
    "\n",
    "$ \\begin{align}Q^{\\pi}(s, a) = r + \\gamma Q^{\\pi}(s', \\pi(s'))\\end{align} $\n",
    "\n",
    "The difference between the two sides of the equality is known as the temporal difference error, $ \\delta $:\n",
    "\n",
    "$ \\begin{align}\\delta = Q(s, a) - (r + \\gamma \\max_a Q(s', a))\\end{align} $"
   ]
  },
  {
   "cell_type": "markdown",
   "metadata": {
    "collapsed": false,
    "pycharm": {
     "name": "#%% md\n"
    }
   },
   "source": [
    "### Model\n",
    "---\n",
    "Make a deep learning based policy model, that takes in a state and outputs an action.\n",
    "This model will be an attribute of the Agent we make next."
   ]
  },
  {
   "cell_type": "code",
   "execution_count": 46,
   "metadata": {
    "collapsed": false,
    "pycharm": {
     "name": "#%%\n"
    }
   },
   "outputs": [],
   "source": [
    "class Model(nn.Module):\n",
    "    def __init__(self, observation_size, action_size):\n",
    "        super(Model, self).__init__()\n",
    "        # initialise layers here\n",
    "        self.layer1 = nn.Linear(observation_size, 128)    # create dense layer 1\n",
    "        self.layer2 = nn.Linear(128, 128)                 # create dense layer 2\n",
    "        self.layer3 = nn.Linear(128, action_size)         # create dense layer 3\n",
    " \n",
    "    # x is a matrix of integer or float numbers\n",
    "    def forward(self, x):\n",
    "        # send x through the network\n",
    "\n",
    "        x = torch.tensor(x, dtype=torch.float32)\n",
    "        x = self.layer1(x)\n",
    "        x = F.relu(x)\n",
    "        x = self.layer2(x)\n",
    "        x = F.relu(x)\n",
    "        x = self.layer3(x)\n",
    "        \n",
    "        return x\n",
    "\n",
    "    def predictBestOutValue(self, x):\n",
    "        x = self.forward(x)            # send x through neural net\n",
    "        # res,_ = torch.max(x, dim=0)\n",
    "        return torch.max(x)            # predict the best reward\n",
    "\n",
    "    def predictBestAction(self, x):\n",
    "        x = self.forward(x)               # send x through neural net\n",
    "        return torch.argmax(x, dim=0)     # predict the best action\n"
   ]
  },
  {
   "cell_type": "markdown",
   "metadata": {
    "collapsed": false,
    "pycharm": {
     "name": "#%% md\n"
    }
   },
   "source": [
    "### DQN Agent\n",
    "----\n",
    "We will be using experience replay memory for training our model.\n",
    "An Agent's memory is as important as its model, and will be another attribute of our agent.\n",
    "Other appropriate attributes are the hyperparameters (gamma, lr, etc.).\n",
    "Give the agent a replay method that trains on a batch from its memory.\n"
   ]
  },
  {
   "cell_type": "code",
   "execution_count": 45,
   "metadata": {
    "collapsed": false,
    "pycharm": {
     "name": "#%%\n"
    }
   },
   "outputs": [],
   "source": [
    "class Agent:\n",
    "    def __init__(self, observation_size, action_size):\n",
    "\n",
    "        self.observation_size=observation_size\n",
    "        self.action_size = action_size\n",
    "\n",
    "        self.criterion = nn.MSELoss()\n",
    "        self.model = Model(observation_size, action_size)\n",
    "        self.optimizer = optim.Adam(self.model.parameters(), lr=1e-3)\n",
    "\n",
    "        # memory that stores N most new transitions\n",
    "        self.memory_size = 1024\n",
    "        self.memory = deque()\n",
    "        self.memory_full = False\n",
    "        \n",
    "        # good place to store hyperparameters as attributes\n",
    "        self.gamma = 0.9        # how much best next state Q value count in the calculation of y\n",
    "        self.epsilon = 0.8      # probability for random choice while training\n",
    "\n",
    "    def remember(self, state, action, reward, next_state, done):\n",
    "        sars = {\"state\": state,\n",
    "                \"action\": action,\n",
    "                \"reward\": reward,\n",
    "                \"next_state\": next_state,\n",
    "                \"done\": done}\n",
    "        # add to memory\n",
    "        self.memory.append(sars)\n",
    "        # remove oldest value if the memory is full\n",
    "        if self.memory_full:\n",
    "            self.memory.popleft()\n",
    "        elif len(self.memory) == self.memory_size :\n",
    "            self.memory_full = True\n",
    "\n",
    "    def act(self, state):\n",
    "        return self.model.predictBestAction(state)\n",
    "\n",
    "    def replay(self, batch_size):\n",
    "        # update model based on replay memory\n",
    "        batch = (random.sample(self.memory, batch_size))\n",
    "        self.train(batch)\n",
    "\n",
    "    def train(self, batch):\n",
    "        \n",
    "        idxs = numpy.arange(len(batch))\n",
    "        states = numpy.array([sars[\"state\"] for sars in batch])\n",
    "        new_states = numpy.array([sars[\"next_state\"] for sars in batch])\n",
    "        actions = numpy.array([sars[\"action\"] for sars in batch])\n",
    "        dones = numpy.array([sars[\"done\"] for sars in batch])\n",
    "        rewards = numpy.array([sars[\"reward\"] for sars in batch])\n",
    "\n",
    "        self.optimizer.zero_grad()                                      # clean gradients of parameters\n",
    "        pred = self.model.forward(states)[idxs, actions]                # take the Q value of the action\n",
    "        y = [rewards[i] if dones[i] else rewards[i] + self.gamma * self.model.predictBestOutValue(new_states[i]) for i in idxs]\n",
    "        y = torch.tensor(y, dtype = torch.float32)\n",
    "\n",
    "        loss = self.criterion(pred, y)          # calculate loss with respect to prediction\n",
    "        loss.backward()                         # calculate gradients of model.parameters() with respect to loss\n",
    "        self.optimizer.step()                   # update parameters with respect to gradients\n",
    "\n"
   ]
  },
  {
   "cell_type": "markdown",
   "metadata": {
    "collapsed": false,
    "pycharm": {
     "name": "#%% md\n"
    }
   },
   "source": [
    "### Main Training loop\n",
    "---\n",
    "Make a function that takes an environment and an agent, and runs through $ n $ episodes.\n",
    "Remember to call that agent's replay function to learn from its past (once it has a past).\n"
   ]
  },
  {
   "cell_type": "code",
   "execution_count": 57,
   "metadata": {
    "collapsed": false,
    "pycharm": {
     "name": "#%%\n"
    }
   },
   "outputs": [],
   "source": [
    "def train(env, agent: Agent, episodes=1000, batch_size=64):\n",
    "    epsilon = agent.epsilon + 0.1\n",
    "    gamma = agent.gamma\n",
    "    for i in tqdm(range(episodes)):\n",
    "        epsilon -= agent.epsilon/episodes\n",
    "        agent.gamma = gamma - gamma/(i+1)\n",
    "        state, _ = env.reset()\n",
    "        done = False\n",
    "        count_direction = 0\n",
    "        while not done:\n",
    "            # 1. make a move in game.\n",
    "            tradeoff = random.uniform(0,1)\n",
    "            if tradeoff > epsilon:\n",
    "                action = agent.model.predictBestAction(state).item()\n",
    "            else:\n",
    "                action = env.action_space.sample()\n",
    "            # Take the action (a) and observe the outcome state(s') and reward (r)\n",
    "            new_state, reward, done, _, _ = env.step(action)\n",
    "            \n",
    "            # if I change the direction, initialize counter\n",
    "            if state[2] * new_state[2] < 0:\n",
    "                count_direction = 0\n",
    "            count_direction += 1\n",
    "            # If I mantain a positive or negative angle for too long remove reward\n",
    "            if count_direction > 5:\n",
    "                reward = 0\n",
    "\n",
    "            # 2. have the agent remember stuff.\n",
    "            agent.remember(state, action, reward, new_state, done)\n",
    "\n",
    "            # 3. update state\n",
    "            state = new_state\n",
    "\n",
    "            # 4. if we have enough experiences in our memory, learn from a batch with replay.\n",
    "            if len(agent.memory) >= batch_size:\n",
    "                agent.replay(batch_size)\n",
    "            \n",
    "            \n",
    "    env.close()"
   ]
  },
  {
   "cell_type": "markdown",
   "metadata": {
    "collapsed": false,
    "pycharm": {
     "name": "#%% md\n"
    }
   },
   "source": [
    "### Putting it together\n",
    "---\n",
    "We train an agent on the environment:\n"
   ]
  },
  {
   "cell_type": "code",
   "execution_count": 58,
   "metadata": {
    "collapsed": false,
    "pycharm": {
     "name": "#%%\n"
    }
   },
   "outputs": [
    {
     "name": "stderr",
     "output_type": "stream",
     "text": [
      "100%|██████████| 500/500 [39:25<00:00,  4.73s/it]\n"
     ]
    }
   ],
   "source": [
    "env = gym.make('CartPole-v1' , render_mode='human')\n",
    "agent = Agent(env.observation_space.shape[0], env.action_space.n)\n",
    "train(env, agent, 500, 64)\n",
    "torch.save(agent.model.state_dict(), 'modelCartPole.pth')"
   ]
  },
  {
   "cell_type": "markdown",
   "metadata": {},
   "source": [
    "Test his performance"
   ]
  },
  {
   "cell_type": "code",
   "execution_count": 55,
   "metadata": {},
   "outputs": [],
   "source": [
    "import time\n",
    "\n",
    "def test(env, agent: Agent, episodes = 10):\n",
    "    start = time.time()\n",
    "    states = 0\n",
    "    for _ in tqdm(range(episodes)):\n",
    "        state, _ = env.reset()\n",
    "        done = False\n",
    "        while not done:\n",
    "            # Make a move in game\n",
    "            action = agent.model.predictBestAction(state).item()\n",
    "            new_state, _, done, _, _ = env.step(action)\n",
    "            # Update state\n",
    "            state = new_state\n",
    "            states += 1\n",
    "\n",
    "    end = time.time()\n",
    "    avg_time = (end - start) / episodes\n",
    "    avg_states = (states) / episodes\n",
    "    env.close()\n",
    "    return avg_time, avg_states\n",
    "\n"
   ]
  },
  {
   "cell_type": "code",
   "execution_count": null,
   "metadata": {},
   "outputs": [],
   "source": [
    "env = gym.make('CartPole-v1', render_mode='human')\n",
    "agent = Agent(env.observation_space.shape[0], env.action_space.n)\n",
    "agent.model.load_state_dict(torch.load('modelCartPole.pth'))\n",
    "agent.model.eval()\n",
    "avg_test, avg_states = test(env, agent, 10)\n",
    "print(\"Average time for this model is:\", avg_test)\n",
    "print(\"Average states for this model is:\", avg_states)\n",
    "\n",
    "# stopped after 10 minutes"
   ]
  },
  {
   "cell_type": "markdown",
   "metadata": {},
   "source": [
    "Compare with random play"
   ]
  },
  {
   "cell_type": "code",
   "execution_count": 9,
   "metadata": {},
   "outputs": [
    {
     "name": "stderr",
     "output_type": "stream",
     "text": [
      "100%|██████████| 10/10 [00:04<00:00,  2.39it/s]"
     ]
    },
    {
     "name": "stdout",
     "output_type": "stream",
     "text": [
      "Average time for this model is: 1.0760772705078125\n",
      "Average time for random play is: 0.4184708833694458\n"
     ]
    },
    {
     "name": "stderr",
     "output_type": "stream",
     "text": [
      "\n"
     ]
    }
   ],
   "source": [
    "def rnd_game_test(env, episodes=10):\n",
    "    start = time.time()\n",
    "    for _ in tqdm(range(episodes)):\n",
    "        state, _ = env.reset()\n",
    "        done = False\n",
    "        while not done:\n",
    "            # Make a move in game\n",
    "            action = env.action_space.sample()\n",
    "            new_state, _, done, _, _ = env.step(action)\n",
    "            # Update state\n",
    "            state = new_state\n",
    "\n",
    "    end = time.time()\n",
    "    avg_time = (end - start) / episodes\n",
    "    env.close()\n",
    "    return avg_time\n",
    "\n",
    "env = gym.make('CartPole-v1', render_mode='human')\n",
    "rnd_test = rnd_game_test(env, 10)\n",
    "print(\"Average time for this model is:\", avg_test)\n",
    "print(\"Average time for random play is:\", rnd_test)"
   ]
  },
  {
   "cell_type": "markdown",
   "metadata": {
    "collapsed": false,
    "pycharm": {
     "name": "#%% md\n"
    }
   },
   "source": [
    "## Optional (highly recommended): Atari\n",
    "Adapt your agent to play an Atari game of your choice.\n",
    "https://www.gymlibrary.dev/environments/atari/air_raid/"
   ]
  },
  {
   "cell_type": "code",
   "execution_count": null,
   "metadata": {
    "collapsed": false,
    "pycharm": {
     "name": "#%%\n"
    }
   },
   "outputs": [],
   "source": []
  }
 ],
 "metadata": {
  "kernelspec": {
   "display_name": "Python 3.10.7 ('dlgsVenv')",
   "language": "python",
   "name": "python3"
  },
  "language_info": {
   "codemirror_mode": {
    "name": "ipython",
    "version": 3
   },
   "file_extension": ".py",
   "mimetype": "text/x-python",
   "name": "python",
   "nbconvert_exporter": "python",
   "pygments_lexer": "ipython3",
   "version": "3.9.13"
  },
  "vscode": {
   "interpreter": {
    "hash": "245e500c7ea10f8a0a5166b0fee45606f08f8f8cd109f252cc77539db3006236"
   }
  }
 },
 "nbformat": 4,
 "nbformat_minor": 0
}
