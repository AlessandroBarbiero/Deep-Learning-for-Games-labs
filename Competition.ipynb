{
 "cells": [
  {
   "cell_type": "code",
   "execution_count": 11,
   "metadata": {},
   "outputs": [
    {
     "ename": "AssertionError",
     "evalue": "",
     "output_type": "error",
     "traceback": [
      "\u001b[0;31m---------------------------------------------------------------------------\u001b[0m",
      "\u001b[0;31mAssertionError\u001b[0m                            Traceback (most recent call last)",
      "Cell \u001b[0;32mIn [11], line 8\u001b[0m\n\u001b[1;32m      6\u001b[0m observation, reward, termination, truncation, info \u001b[38;5;241m=\u001b[39m env\u001b[38;5;241m.\u001b[39mlast()\n\u001b[1;32m      7\u001b[0m action \u001b[38;5;241m=\u001b[39m env\u001b[38;5;241m.\u001b[39maction_space(agent)\u001b[38;5;241m.\u001b[39msample()\n\u001b[0;32m----> 8\u001b[0m env\u001b[38;5;241m.\u001b[39mstep(action)\n",
      "File \u001b[0;32m/mnt/d/ITU/DeepLearningLabs/tournamentWsl/lib/python3.8/site-packages/pettingzoo/utils/wrappers/order_enforcing.py:74\u001b[0m, in \u001b[0;36mOrderEnforcingWrapper.step\u001b[0;34m(self, action)\u001b[0m\n\u001b[1;32m     72\u001b[0m \u001b[39melse\u001b[39;00m:\n\u001b[1;32m     73\u001b[0m     \u001b[39mself\u001b[39m\u001b[39m.\u001b[39m_has_updated \u001b[39m=\u001b[39m \u001b[39mTrue\u001b[39;00m\n\u001b[0;32m---> 74\u001b[0m     \u001b[39msuper\u001b[39;49m()\u001b[39m.\u001b[39;49mstep(action)\n",
      "File \u001b[0;32m/mnt/d/ITU/DeepLearningLabs/tournamentWsl/lib/python3.8/site-packages/pettingzoo/utils/wrappers/base.py:102\u001b[0m, in \u001b[0;36mBaseWrapper.step\u001b[0;34m(self, action)\u001b[0m\n\u001b[1;32m    101\u001b[0m \u001b[39mdef\u001b[39;00m \u001b[39mstep\u001b[39m(\u001b[39mself\u001b[39m, action):\n\u001b[0;32m--> 102\u001b[0m     \u001b[39mself\u001b[39;49m\u001b[39m.\u001b[39;49menv\u001b[39m.\u001b[39;49mstep(action)\n\u001b[1;32m    104\u001b[0m     \u001b[39mself\u001b[39m\u001b[39m.\u001b[39magent_selection \u001b[39m=\u001b[39m \u001b[39mself\u001b[39m\u001b[39m.\u001b[39menv\u001b[39m.\u001b[39magent_selection\n\u001b[1;32m    105\u001b[0m     \u001b[39mself\u001b[39m\u001b[39m.\u001b[39mrewards \u001b[39m=\u001b[39m \u001b[39mself\u001b[39m\u001b[39m.\u001b[39menv\u001b[39m.\u001b[39mrewards\n",
      "File \u001b[0;32m/mnt/d/ITU/DeepLearningLabs/tournamentWsl/lib/python3.8/site-packages/pettingzoo/utils/wrappers/assert_out_of_bounds.py:29\u001b[0m, in \u001b[0;36mAssertOutOfBoundsWrapper.step\u001b[0;34m(self, action)\u001b[0m\n\u001b[1;32m     19\u001b[0m \u001b[39mdef\u001b[39;00m \u001b[39mstep\u001b[39m(\u001b[39mself\u001b[39m, action):\n\u001b[1;32m     20\u001b[0m     \u001b[39massert\u001b[39;00m (\n\u001b[1;32m     21\u001b[0m         action \u001b[39mis\u001b[39;00m \u001b[39mNone\u001b[39;00m\n\u001b[1;32m     22\u001b[0m         \u001b[39mand\u001b[39;00m (\n\u001b[0;32m   (...)\u001b[0m\n\u001b[1;32m     27\u001b[0m         action\n\u001b[1;32m     28\u001b[0m     ), \u001b[39m\"\u001b[39m\u001b[39maction is not in action space\u001b[39m\u001b[39m\"\u001b[39m\n\u001b[0;32m---> 29\u001b[0m     \u001b[39msuper\u001b[39;49m()\u001b[39m.\u001b[39;49mstep(action)\n",
      "File \u001b[0;32m/mnt/d/ITU/DeepLearningLabs/tournamentWsl/lib/python3.8/site-packages/pettingzoo/utils/wrappers/base.py:102\u001b[0m, in \u001b[0;36mBaseWrapper.step\u001b[0;34m(self, action)\u001b[0m\n\u001b[1;32m    101\u001b[0m \u001b[39mdef\u001b[39;00m \u001b[39mstep\u001b[39m(\u001b[39mself\u001b[39m, action):\n\u001b[0;32m--> 102\u001b[0m     \u001b[39mself\u001b[39;49m\u001b[39m.\u001b[39;49menv\u001b[39m.\u001b[39;49mstep(action)\n\u001b[1;32m    104\u001b[0m     \u001b[39mself\u001b[39m\u001b[39m.\u001b[39magent_selection \u001b[39m=\u001b[39m \u001b[39mself\u001b[39m\u001b[39m.\u001b[39menv\u001b[39m.\u001b[39magent_selection\n\u001b[1;32m    105\u001b[0m     \u001b[39mself\u001b[39m\u001b[39m.\u001b[39mrewards \u001b[39m=\u001b[39m \u001b[39mself\u001b[39m\u001b[39m.\u001b[39menv\u001b[39m.\u001b[39mrewards\n",
      "File \u001b[0;32m/mnt/d/ITU/DeepLearningLabs/tournamentWsl/lib/python3.8/site-packages/pettingzoo/utils/conversions.py:280\u001b[0m, in \u001b[0;36mparallel_to_aec_wrapper.step\u001b[0;34m(self, action)\u001b[0m\n\u001b[1;32m    275\u001b[0m \u001b[39mif\u001b[39;00m (\n\u001b[1;32m    276\u001b[0m     \u001b[39mself\u001b[39m\u001b[39m.\u001b[39mterminations[\u001b[39mself\u001b[39m\u001b[39m.\u001b[39magent_selection]\n\u001b[1;32m    277\u001b[0m     \u001b[39mor\u001b[39;00m \u001b[39mself\u001b[39m\u001b[39m.\u001b[39mtruncations[\u001b[39mself\u001b[39m\u001b[39m.\u001b[39magent_selection]\n\u001b[1;32m    278\u001b[0m ):\n\u001b[1;32m    279\u001b[0m     \u001b[39mdel\u001b[39;00m \u001b[39mself\u001b[39m\u001b[39m.\u001b[39m_actions[\u001b[39mself\u001b[39m\u001b[39m.\u001b[39magent_selection]\n\u001b[0;32m--> 280\u001b[0m     \u001b[39massert\u001b[39;00m action \u001b[39mis\u001b[39;00m \u001b[39mNone\u001b[39;00m\n\u001b[1;32m    281\u001b[0m     \u001b[39mself\u001b[39m\u001b[39m.\u001b[39m_was_dead_step(action)\n\u001b[1;32m    282\u001b[0m     \u001b[39mreturn\u001b[39;00m\n",
      "\u001b[0;31mAssertionError\u001b[0m: "
     ]
    }
   ],
   "source": [
    "\n",
    "from pettingzoo.atari import surround_v2\n",
    "\n",
    "env = surround_v2.env()\n",
    "env.reset()\n",
    "for agent in env.agent_iter():\n",
    "    observation, reward, termination, truncation, info = env.last()\n",
    "    action = env.action_space(agent).sample()\n",
    "    env.step(action)"
   ]
  },
  {
   "cell_type": "code",
   "execution_count": null,
   "metadata": {},
   "outputs": [],
   "source": []
  }
 ],
 "metadata": {
  "kernelspec": {
   "display_name": "Python 3.8.10 ('tournamentWsl')",
   "language": "python",
   "name": "python3"
  },
  "language_info": {
   "codemirror_mode": {
    "name": "ipython",
    "version": 3
   },
   "file_extension": ".py",
   "mimetype": "text/x-python",
   "name": "python",
   "nbconvert_exporter": "python",
   "pygments_lexer": "ipython3",
   "version": "3.8.10"
  },
  "orig_nbformat": 4,
  "vscode": {
   "interpreter": {
    "hash": "fd8add5bf304bf4c5afa10876351f6cb1eb1ecfd2b04ea0889d4a760751cab2f"
   }
  }
 },
 "nbformat": 4,
 "nbformat_minor": 2
}
