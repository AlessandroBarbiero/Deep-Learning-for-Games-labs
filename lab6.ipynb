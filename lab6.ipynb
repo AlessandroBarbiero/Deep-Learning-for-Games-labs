{
  "cells": [
    {
      "cell_type": "markdown",
      "metadata": {
        "id": "qyVJJbUL_Haz"
      },
      "source": [
        "## Example to load the network, sample 4 levels at random from the latent space and then plot them using matplotlib.\n"
      ]
    },
    {
      "cell_type": "markdown",
      "metadata": {},
      "source": [
        "### For Google Colab (I didn't use it)"
      ]
    },
    {
      "cell_type": "code",
      "execution_count": 331,
      "metadata": {
        "colab": {
          "base_uri": "https://localhost:8080/"
        },
        "id": "iq2ct6jZ_a7G",
        "outputId": "1b3b3d2c-8b9e-43ba-de0a-cdcea75779b6"
      },
      "outputs": [],
      "source": [
        "# from google.colab import drive\n",
        "# drive.mount('/content/drive')"
      ]
    },
    {
      "cell_type": "code",
      "execution_count": 332,
      "metadata": {
        "id": "5LuG8NIRD1ER"
      },
      "outputs": [],
      "source": [
        "#!cp 'path/to/file' 'path/to/drive'"
      ]
    },
    {
      "cell_type": "markdown",
      "metadata": {},
      "source": [
        "### Run it just one time"
      ]
    },
    {
      "cell_type": "code",
      "execution_count": 1,
      "metadata": {
        "id": "MIKLfRfB_h0g"
      },
      "outputs": [],
      "source": [
        "# import os\n",
        "# os.chdir(\"lab6/exercise_DL_pcg\")"
      ]
    },
    {
      "cell_type": "markdown",
      "metadata": {},
      "source": [
        "## Start here"
      ]
    },
    {
      "cell_type": "code",
      "execution_count": 3,
      "metadata": {
        "id": "cZSy0Ez__Ha1"
      },
      "outputs": [],
      "source": [
        "import os\n",
        "import torch\n",
        "import matplotlib.pyplot as plt\n",
        "from numpy import random\n",
        "\n",
        "from vae_mario import VAEMario\n",
        "from plotting_utilities import plot_decoded_level"
      ]
    },
    {
      "cell_type": "code",
      "execution_count": 7,
      "metadata": {
        "colab": {
          "base_uri": "https://localhost:8080/"
        },
        "id": "y0Knffku_Ha2",
        "outputId": "ffd9936d-a013-47e3-b4f5-b7b0a21138f4"
      },
      "outputs": [
        {
          "name": "stdout",
          "output_type": "stream",
          "text": [
            "VAEMario(\n",
            "  (encoder): Sequential(\n",
            "    (0): Linear(in_features=2156, out_features=512, bias=True)\n",
            "    (1): ReLU()\n",
            "    (2): Linear(in_features=512, out_features=256, bias=True)\n",
            "    (3): ReLU()\n",
            "  )\n",
            "  (fc_mu): Sequential(\n",
            "    (0): Linear(in_features=256, out_features=2, bias=True)\n",
            "  )\n",
            "  (fc_var): Sequential(\n",
            "    (0): Linear(in_features=256, out_features=2, bias=True)\n",
            "  )\n",
            "  (decoder): Sequential(\n",
            "    (0): Linear(in_features=2, out_features=256, bias=True)\n",
            "    (1): ReLU()\n",
            "    (2): Linear(in_features=256, out_features=512, bias=True)\n",
            "    (3): ReLU()\n",
            "    (4): Linear(in_features=512, out_features=2156, bias=True)\n",
            "  )\n",
            ")\n"
          ]
        },
        {
          "data": {
            "text/plain": [
              "<All keys matched successfully>"
            ]
          },
          "execution_count": 7,
          "metadata": {},
          "output_type": "execute_result"
        }
      ],
      "source": [
        "# Loading the model\n",
        "model_name = \"mario_vae_zdim_2_overfitted\"\n",
        "z_dim = 2\n",
        "vae = VAEMario(z_dim=z_dim)\n",
        "vae.load_state_dict(torch.load(f\"./models/{model_name}.pt\"))"
      ]
    },
    {
      "cell_type": "markdown",
      "metadata": {},
      "source": [
        "# Latent Variable Evolution Lab\n",
        "\n",
        "\n",
        "## Sample from the VAE and then implement some search algorithm of choise to search the latent space for a particular level (e.g. one with many ground tiles)"
      ]
    },
    {
      "cell_type": "code",
      "execution_count": 32,
      "metadata": {
        "id": "le-QHFBn_Ha4"
      },
      "outputs": [
        {
          "data": {
            "text/plain": [
              "tensor([[2, 2, 2, 2, 2, 2, 2, 2, 2, 2, 2, 2, 2, 2],\n",
              "        [2, 2, 2, 2, 2, 2, 2, 2, 2, 2, 2, 2, 2, 2],\n",
              "        [2, 2, 2, 2, 2, 2, 2, 1, 1, 1, 1, 1, 1, 1],\n",
              "        [2, 2, 2, 2, 2, 2, 2, 2, 2, 2, 2, 2, 2, 2],\n",
              "        [2, 2, 2, 2, 2, 2, 2, 2, 2, 2, 2, 2, 2, 2],\n",
              "        [2, 2, 2, 2, 2, 2, 2, 2, 2, 2, 2, 2, 2, 2],\n",
              "        [2, 2, 2, 2, 2, 2, 2, 2, 2, 2, 2, 2, 2, 2],\n",
              "        [2, 2, 2, 2, 2, 2, 2, 2, 2, 2, 2, 2, 2, 2],\n",
              "        [2, 2, 2, 2, 2, 2, 2, 2, 2, 2, 2, 2, 2, 2],\n",
              "        [2, 2, 2, 2, 2, 2, 2, 2, 2, 2, 2, 2, 2, 2],\n",
              "        [2, 2, 2, 2, 2, 2, 2, 2, 2, 2, 2, 2, 2, 2],\n",
              "        [2, 2, 2, 2, 2, 2, 2, 2, 2, 2, 2, 2, 2, 2],\n",
              "        [2, 2, 2, 2, 2, 2, 2, 2, 2, 2, 2, 2, 2, 2],\n",
              "        [0, 0, 2, 2, 0, 0, 0, 0, 0, 0, 0, 0, 0, 0]])"
            ]
          },
          "execution_count": 32,
          "metadata": {},
          "output_type": "execute_result"
        }
      ],
      "source": [
        "# Sampling random zs\n",
        "target_zs = 2.5 * torch.randn((4, z_dim))\n",
        "levels = vae.decode(target_zs)\n",
        "level_1 = levels[0]\n",
        "target = torch.argmax(level_1, dim=0)\n",
        "target"
      ]
    },
    {
      "cell_type": "markdown",
      "metadata": {},
      "source": [
        "I define some functions to improve my z"
      ]
    },
    {
      "cell_type": "code",
      "execution_count": 33,
      "metadata": {},
      "outputs": [],
      "source": [
        "def find_best_z(target, zs):\n",
        "    levels = vae.decode(zs)\n",
        "    best_match = 10000\n",
        "    z = 0\n",
        "    for idx, level in enumerate(levels):\n",
        "        output = torch.argmax(level, dim=0)\n",
        "        # Create a matrix of 0 and 1 to show which parts are different\n",
        "        compare_tensor = (output == target).int()\n",
        "        _,count = compare_tensor.unique(return_counts=True)\n",
        "        wrong_tiles = count[0]\n",
        "        if wrong_tiles < best_match:\n",
        "            z = zs[idx]\n",
        "            best_match = wrong_tiles\n",
        "            # print(\"Found better fitting, new wrong tiles: \", best_match.item())\n",
        "    return z, best_match\n",
        "\n",
        "def improve_z(target, z, noise):\n",
        "    zs = [z + noise * torch.randn(z_dim) for _ in range(10000)]\n",
        "    zs = torch.stack(zs)\n",
        "    return find_best_z(target, zs)\n",
        "\n",
        "def decimal_range(start, stop, increment):\n",
        "    while start > stop:\n",
        "        yield start\n",
        "        start += increment\n"
      ]
    },
    {
      "cell_type": "markdown",
      "metadata": {},
      "source": [
        "Actual search for best fitting"
      ]
    },
    {
      "cell_type": "code",
      "execution_count": 34,
      "metadata": {},
      "outputs": [
        {
          "name": "stdout",
          "output_type": "stream",
          "text": [
            "Starting wrong tiles:  9\n",
            "Start refine search\n",
            "Final wrong tiles: 1\n"
          ]
        }
      ],
      "source": [
        "# Create some z in order to find the best fit for the previous target\n",
        "\n",
        "zs = [z + 0.1 * torch.randn(z_dim) for z in range(100)]\n",
        "zs = torch.stack(zs)\n",
        "# First search on large latent space\n",
        "z, best = find_best_z(target, zs)\n",
        "print(\"Starting wrong tiles: \", best.item())\n",
        "\n",
        "# Refine search\n",
        "print(\"Start refine search\")\n",
        "new_z = z\n",
        "# Improve z decreasing noise magnitude while I am approaching solution\n",
        "for noise in decimal_range(0.5, 0, -0.1):\n",
        "    # print(\"Noise is: \", noise)\n",
        "    new_z, new_best = improve_z(target, new_z, noise)\n",
        "    if new_best == 0:\n",
        "        break\n",
        "\n",
        "print(\"Final wrong tiles:\", new_best.item())\n"
      ]
    },
    {
      "cell_type": "code",
      "execution_count": 35,
      "metadata": {},
      "outputs": [
        {
          "name": "stdout",
          "output_type": "stream",
          "text": [
            "My guess: tensor([-0.2255, -1.4772])\n",
            "Target: tensor([-0.2820, -1.6104])\n",
            "The difference between the two is: tensor([0.0566, 0.1332])\n"
          ]
        }
      ],
      "source": [
        "print(f\"My guess: {new_z}\\nTarget: {target_zs[0]}\")\n",
        "print(\"The difference between the two is:\", new_z - target_zs[0])"
      ]
    },
    {
      "cell_type": "code",
      "execution_count": 36,
      "metadata": {
        "id": "Z56bNfog_Ha4"
      },
      "outputs": [],
      "source": [
        "# Getting levels from them using the decoder\n",
        "levels = vae.decode(target_zs)\n",
        "level_imgs = [plot_decoded_level(level) for level in levels]\n",
        "\n",
        "# Creating new image\n",
        "out_level = vae.decode(new_z)[0]\n",
        "out_level_img = plot_decoded_level(out_level)"
      ]
    },
    {
      "cell_type": "code",
      "execution_count": 37,
      "metadata": {
        "colab": {
          "base_uri": "https://localhost:8080/",
          "height": 368
        },
        "id": "h1LF6395_Ha5",
        "outputId": "8449c6c7-b45c-4ad5-c982-0e1edc4cd95b"
      },
      "outputs": [
        {
          "data": {
            "image/png": "[encoded data removed]",
            "text/plain": [
              "<Figure size 640x480 with 1 Axes>"
            ]
          },
          "metadata": {},
          "output_type": "display_data"
        }
      ],
      "source": [
        "# Plotting Target\n",
        "plt.imshow(level_imgs[0])\n",
        "_ = plt.axis(\"off\")\n"
      ]
    },
    {
      "cell_type": "code",
      "execution_count": 38,
      "metadata": {},
      "outputs": [
        {
          "data": {
            "image/png": "[encoded data removed]",
            "text/plain": [
              "<Figure size 640x480 with 1 Axes>"
            ]
          },
          "metadata": {},
          "output_type": "display_data"
        }
      ],
      "source": [
        "# Plotting reconstructed one\n",
        "plt.imshow(out_level_img)\n",
        "_ = plt.axis(\"off\")\n"
      ]
    }
  ],
  "metadata": {
    "colab": {
      "name": "Untitled.ipynb",
      "provenance": []
    },
    "kernelspec": {
      "display_name": "Python 3.10.7 ('dlgsVenv')",
      "language": "python",
      "name": "python3"
    },
    "language_info": {
      "codemirror_mode": {
        "name": "ipython",
        "version": 3
      },
      "file_extension": ".py",
      "mimetype": "text/x-python",
      "name": "python",
      "nbconvert_exporter": "python",
      "pygments_lexer": "ipython3",
      "version": "3.9.13"
    },
    "vscode": {
      "interpreter": {
        "hash": "245e500c7ea10f8a0a5166b0fee45606f08f8f8cd109f252cc77539db3006236"
      }
    }
  },
  "nbformat": 4,
  "nbformat_minor": 0
}
